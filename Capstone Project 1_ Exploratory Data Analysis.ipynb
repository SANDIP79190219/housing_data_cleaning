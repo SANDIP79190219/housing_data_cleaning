{
 "cells": [
  {
   "cell_type": "markdown",
   "metadata": {},
   "source": [
    "### Capstone Project 1: Exploratory Data Analysis\n",
    "##### Goal - is Apply Below Inferential Statistics Method on Housing Price Project  - to Answers the Question regarding Housing Price\n",
    "* the z-statistic\n",
    "* the t-statistic\n",
    "* the Central Limit Theorem, including its assumptions and consequences\n",
    "* how to estimate the population mean and standard deviation from a sample\n",
    "* the concept of a sampling distribution of a test statistic, particularly for the mean\n",
    "* how to combine these concepts to calculate a confidence interval"
   ]
  },
  {
   "cell_type": "code",
   "execution_count": 1,
   "metadata": {},
   "outputs": [],
   "source": [
    "import pandas as pd\n",
    "import numpy as np\n",
    "import matplotlib.pyplot as plt\n",
    "from scipy.stats import t\n",
    "from numpy.random import seed\n",
    "House_Price = pd.read_csv(\"C:\\\\Users\\\\Sandip\\\\Desktop\\\\test_data\\\\Machine_Learning\\\\train_data.csv\")"
   ]
  },
  {
   "cell_type": "code",
   "execution_count": 2,
   "metadata": {},
   "outputs": [
    {
     "data": {
      "text/plain": [
       "(1175, 43)"
      ]
     },
     "execution_count": 2,
     "metadata": {},
     "output_type": "execute_result"
    }
   ],
   "source": [
    "House_Price.shape"
   ]
  },
  {
   "cell_type": "code",
   "execution_count": 3,
   "metadata": {},
   "outputs": [
    {
     "data": {
      "text/html": [
       "<div>\n",
       "<style scoped>\n",
       "    .dataframe tbody tr th:only-of-type {\n",
       "        vertical-align: middle;\n",
       "    }\n",
       "\n",
       "    .dataframe tbody tr th {\n",
       "        vertical-align: top;\n",
       "    }\n",
       "\n",
       "    .dataframe thead th {\n",
       "        text-align: right;\n",
       "    }\n",
       "</style>\n",
       "<table border=\"1\" class=\"dataframe\">\n",
       "  <thead>\n",
       "    <tr style=\"text-align: right;\">\n",
       "      <th></th>\n",
       "      <th>MSSubClass</th>\n",
       "      <th>MSZoning</th>\n",
       "      <th>LotFrontage</th>\n",
       "      <th>LotArea</th>\n",
       "      <th>LotShape</th>\n",
       "      <th>LotConfig</th>\n",
       "      <th>Neighborhood</th>\n",
       "      <th>HouseStyle</th>\n",
       "      <th>OverallQual</th>\n",
       "      <th>OverallCond</th>\n",
       "      <th>...</th>\n",
       "      <th>KitchenQual</th>\n",
       "      <th>Fireplaces</th>\n",
       "      <th>GarageType</th>\n",
       "      <th>GarageFinish</th>\n",
       "      <th>GarageArea</th>\n",
       "      <th>WoodDeckSF</th>\n",
       "      <th>OpenPorchSF</th>\n",
       "      <th>MoSold</th>\n",
       "      <th>YrSold</th>\n",
       "      <th>SalePrice</th>\n",
       "    </tr>\n",
       "  </thead>\n",
       "  <tbody>\n",
       "    <tr>\n",
       "      <th>0</th>\n",
       "      <td>60</td>\n",
       "      <td>RL</td>\n",
       "      <td>65.0</td>\n",
       "      <td>8450</td>\n",
       "      <td>Reg</td>\n",
       "      <td>Inside</td>\n",
       "      <td>CollgCr</td>\n",
       "      <td>2Story</td>\n",
       "      <td>7</td>\n",
       "      <td>5</td>\n",
       "      <td>...</td>\n",
       "      <td>Gd</td>\n",
       "      <td>0</td>\n",
       "      <td>Attchd</td>\n",
       "      <td>RFn</td>\n",
       "      <td>548</td>\n",
       "      <td>0</td>\n",
       "      <td>61</td>\n",
       "      <td>2</td>\n",
       "      <td>2008</td>\n",
       "      <td>208500</td>\n",
       "    </tr>\n",
       "    <tr>\n",
       "      <th>1</th>\n",
       "      <td>20</td>\n",
       "      <td>RL</td>\n",
       "      <td>80.0</td>\n",
       "      <td>9600</td>\n",
       "      <td>Reg</td>\n",
       "      <td>FR2</td>\n",
       "      <td>Veenker</td>\n",
       "      <td>1Story</td>\n",
       "      <td>6</td>\n",
       "      <td>8</td>\n",
       "      <td>...</td>\n",
       "      <td>TA</td>\n",
       "      <td>1</td>\n",
       "      <td>Attchd</td>\n",
       "      <td>RFn</td>\n",
       "      <td>460</td>\n",
       "      <td>298</td>\n",
       "      <td>0</td>\n",
       "      <td>5</td>\n",
       "      <td>2007</td>\n",
       "      <td>181500</td>\n",
       "    </tr>\n",
       "    <tr>\n",
       "      <th>2</th>\n",
       "      <td>60</td>\n",
       "      <td>RL</td>\n",
       "      <td>68.0</td>\n",
       "      <td>11250</td>\n",
       "      <td>IR1</td>\n",
       "      <td>Inside</td>\n",
       "      <td>CollgCr</td>\n",
       "      <td>2Story</td>\n",
       "      <td>7</td>\n",
       "      <td>5</td>\n",
       "      <td>...</td>\n",
       "      <td>Gd</td>\n",
       "      <td>1</td>\n",
       "      <td>Attchd</td>\n",
       "      <td>RFn</td>\n",
       "      <td>608</td>\n",
       "      <td>0</td>\n",
       "      <td>42</td>\n",
       "      <td>9</td>\n",
       "      <td>2008</td>\n",
       "      <td>223500</td>\n",
       "    </tr>\n",
       "    <tr>\n",
       "      <th>3</th>\n",
       "      <td>70</td>\n",
       "      <td>RL</td>\n",
       "      <td>60.0</td>\n",
       "      <td>9550</td>\n",
       "      <td>IR1</td>\n",
       "      <td>Corner</td>\n",
       "      <td>Crawfor</td>\n",
       "      <td>2Story</td>\n",
       "      <td>7</td>\n",
       "      <td>5</td>\n",
       "      <td>...</td>\n",
       "      <td>Gd</td>\n",
       "      <td>1</td>\n",
       "      <td>Detchd</td>\n",
       "      <td>Unf</td>\n",
       "      <td>642</td>\n",
       "      <td>0</td>\n",
       "      <td>35</td>\n",
       "      <td>2</td>\n",
       "      <td>2006</td>\n",
       "      <td>140000</td>\n",
       "    </tr>\n",
       "    <tr>\n",
       "      <th>4</th>\n",
       "      <td>60</td>\n",
       "      <td>RL</td>\n",
       "      <td>84.0</td>\n",
       "      <td>14260</td>\n",
       "      <td>IR1</td>\n",
       "      <td>FR2</td>\n",
       "      <td>NoRidge</td>\n",
       "      <td>2Story</td>\n",
       "      <td>8</td>\n",
       "      <td>5</td>\n",
       "      <td>...</td>\n",
       "      <td>Gd</td>\n",
       "      <td>1</td>\n",
       "      <td>Attchd</td>\n",
       "      <td>RFn</td>\n",
       "      <td>836</td>\n",
       "      <td>192</td>\n",
       "      <td>84</td>\n",
       "      <td>12</td>\n",
       "      <td>2008</td>\n",
       "      <td>250000</td>\n",
       "    </tr>\n",
       "  </tbody>\n",
       "</table>\n",
       "<p>5 rows × 43 columns</p>\n",
       "</div>"
      ],
      "text/plain": [
       "   MSSubClass MSZoning  LotFrontage  LotArea LotShape LotConfig Neighborhood  \\\n",
       "0          60       RL         65.0     8450      Reg    Inside      CollgCr   \n",
       "1          20       RL         80.0     9600      Reg       FR2      Veenker   \n",
       "2          60       RL         68.0    11250      IR1    Inside      CollgCr   \n",
       "3          70       RL         60.0     9550      IR1    Corner      Crawfor   \n",
       "4          60       RL         84.0    14260      IR1       FR2      NoRidge   \n",
       "\n",
       "  HouseStyle  OverallQual  OverallCond  ...  KitchenQual  Fireplaces  \\\n",
       "0     2Story            7            5  ...           Gd           0   \n",
       "1     1Story            6            8  ...           TA           1   \n",
       "2     2Story            7            5  ...           Gd           1   \n",
       "3     2Story            7            5  ...           Gd           1   \n",
       "4     2Story            8            5  ...           Gd           1   \n",
       "\n",
       "  GarageType GarageFinish GarageArea WoodDeckSF  OpenPorchSF MoSold YrSold  \\\n",
       "0     Attchd          RFn        548          0           61      2   2008   \n",
       "1     Attchd          RFn        460        298            0      5   2007   \n",
       "2     Attchd          RFn        608          0           42      9   2008   \n",
       "3     Detchd          Unf        642          0           35      2   2006   \n",
       "4     Attchd          RFn        836        192           84     12   2008   \n",
       "\n",
       "  SalePrice  \n",
       "0    208500  \n",
       "1    181500  \n",
       "2    223500  \n",
       "3    140000  \n",
       "4    250000  \n",
       "\n",
       "[5 rows x 43 columns]"
      ]
     },
     "execution_count": 3,
     "metadata": {},
     "output_type": "execute_result"
    }
   ],
   "source": [
    "House_Price.head()"
   ]
  },
  {
   "cell_type": "code",
   "execution_count": 6,
   "metadata": {},
   "outputs": [
    {
     "data": {
      "image/png": "[encoded data removed]",
      "text/plain": [
       "<Figure size 432x288 with 1 Axes>"
      ]
     },
     "metadata": {
      "needs_background": "light"
     },
     "output_type": "display_data"
    }
   ],
   "source": [
    "_ = plt.hist(House_Price['SalePrice'], bins=10)\n",
    "_ = plt.xlabel('Housing Price')\n",
    "_ = plt.ylabel('Number of Houses')\n",
    "_ = plt.title('Distribution of Housing Price')\n",
    "_ = plt.axvline(np.mean(House_Price['SalePrice']) , color='r')\n",
    "_ = plt.axvline(np.mean(House_Price['SalePrice']) +  np.std(House_Price['SalePrice']), color='r', linestyle='--')\n",
    "_ = plt.axvline(np.mean(House_Price['SalePrice']) -  np.std(House_Price['SalePrice']), color='r', linestyle='--')"
   ]
  },
  {
   "cell_type": "code",
   "execution_count": 7,
   "metadata": {},
   "outputs": [
    {
     "name": "stdout",
     "output_type": "stream",
     "text": [
      "Mean :-  169582.65106382978\n",
      "Std  :-  62558.06014963946\n"
     ]
    }
   ],
   "source": [
    "print('Mean :- ', np.mean(House_Price['SalePrice']))\n",
    "print('Std  :- ', np.std(House_Price['SalePrice']))"
   ]
  },
  {
   "cell_type": "code",
   "execution_count": 9,
   "metadata": {},
   "outputs": [],
   "source": [
    "def Housing_Price_sampler(n):\n",
    "    return np.random.choice(House_Price['SalePrice'], n)"
   ]
  },
  {
   "cell_type": "code",
   "execution_count": 13,
   "metadata": {},
   "outputs": [],
   "source": [
    "seed(42)\n",
    "# take your samples here\n",
    "daily_sample_mean = np.empty(10000)\n",
    "\n",
    "for i in range(10000):\n",
    "    daily_sample = Housing_Price_sampler(30)\n",
    "    daily_sample_mean[i] = np.mean(daily_sample)"
   ]
  },
  {
   "cell_type": "code",
   "execution_count": 36,
   "metadata": {},
   "outputs": [
    {
     "data": {
      "image/png": "[encoded data removed]",
      "text/plain": [
       "<Figure size 432x288 with 1 Axes>"
      ]
     },
     "metadata": {
      "needs_background": "light"
     },
     "output_type": "display_data"
    }
   ],
   "source": [
    "_ = plt.hist(daily_sample_mean, bins=10)\n",
    "_ = plt.xlabel('Housing Price')\n",
    "_ = plt.ylabel('Number of Houses')\n",
    "_ = plt.title('Distribution of Housing Price')\n",
    "_ = plt.axvline(np.mean(daily_sample_mean), color='r')\n",
    "_ = plt.axvline(np.mean(daily_sample_mean)+np.std(daily_sample_mean), color='r', linestyle='--')\n",
    "_ = plt.axvline(np.mean(daily_sample_mean)-np.std(daily_sample_mean), color='r', linestyle='--')\n",
    "_ = plt.axvline(np.mean(daily_sample_mean)+(np.std(daily_sample_mean))*2, color='r', linestyle='-.')\n",
    "_ = plt.axvline(np.mean(daily_sample_mean)-(np.std(daily_sample_mean))*2, color='r', linestyle='-.')"
   ]
  },
  {
   "cell_type": "code",
   "execution_count": 15,
   "metadata": {},
   "outputs": [
    {
     "name": "stdout",
     "output_type": "stream",
     "text": [
      "Lower Limit of 95% confidence interval using norm.ppf = 147425.0833781851\n",
      "Upper Limit of 95% confidence interval using norm.ppf = 192006.46240848157\n"
     ]
    }
   ],
   "source": [
    "from scipy.stats import norm\n",
    "s = np.std(daily_sample_mean)\n",
    "print('Lower Limit of 95% confidence interval using norm.ppf =' ,norm.ppf(0.025, loc=np.mean(daily_sample_mean), scale=s))\n",
    "print('Upper Limit of 95% confidence interval using norm.ppf =' ,norm.ppf(0.975, loc=np.mean(daily_sample_mean), scale=s))"
   ]
  },
  {
   "cell_type": "markdown",
   "metadata": {},
   "source": [
    "### Q: Is overall quality feature  imapct the housing price ?"
   ]
  },
  {
   "cell_type": "markdown",
   "metadata": {},
   "source": [
    "### _Ans_"
   ]
  },
  {
   "cell_type": "markdown",
   "metadata": {},
   "source": [
    "* Split the data of housing price into two part houses having overall quality > 5 and quality < 5 \n",
    "* State the null and alternative hypothesis and comment on whether you would retain or reject the null hypothesis in this case and why.\n",
    "* We are testing the hypothesis that the diff in a means is 0 for the two data sets.\n",
    "* We assume that the diff in variances for the two samples is 0.\n",
    "* Ho: x̅1 - x̅2 = 0\n",
    "* Ha: x̅1 - x̅2 ≠ 0"
   ]
  },
  {
   "cell_type": "code",
   "execution_count": 24,
   "metadata": {},
   "outputs": [],
   "source": [
    "sample_A = House_Price[House_Price['OverallQual'] > 5]['SalePrice']\n",
    "sample_B = House_Price[House_Price['OverallQual'] < 5]['SalePrice']"
   ]
  },
  {
   "cell_type": "code",
   "execution_count": 25,
   "metadata": {},
   "outputs": [
    {
     "name": "stdout",
     "output_type": "stream",
     "text": [
      "t-Test-statistic :- 16.996672992744813\n",
      "p-value From t distribution table is :- 1.646\n"
     ]
    }
   ],
   "source": [
    "s0 = np.std(sample_A)\n",
    "s1 = np.std(sample_B)\n",
    "n0 = len(sample_A)\n",
    "n1 = len(sample_B)\n",
    "Sp = (((n0 - 1)*(s0 ** 2))+((n1 - 1)*(s1 ** 2))) / (n0 + n1 - 2)\n",
    "Sp = np.sqrt(Sp)\n",
    "x0 = np.mean(sample_A)\n",
    "x1 = np.mean(sample_B)\n",
    "t = (x0 - x1) / (Sp * np.sqrt(1/n0 + 1/n1))\n",
    "print('t-Test-statistic :-', t)\n",
    "print('p-value From t distribution table is :- 1.646')"
   ]
  },
  {
   "cell_type": "code",
   "execution_count": 30,
   "metadata": {},
   "outputs": [],
   "source": [
    "#House_Price[House_Price['OverallQual'] > 5]['SalePrice']"
   ]
  },
  {
   "cell_type": "code",
   "execution_count": 37,
   "metadata": {},
   "outputs": [],
   "source": [
    "def Housing_Price_sampler(n):\n",
    "    return np.random.choice(House_Price[House_Price['OverallQual'] > 5]['SalePrice'], n)"
   ]
  },
  {
   "cell_type": "code",
   "execution_count": 38,
   "metadata": {},
   "outputs": [],
   "source": [
    "seed(42)\n",
    "# take your samples here\n",
    "daily_sample_mean = np.empty(10000)\n",
    "\n",
    "for i in range(10000):\n",
    "    daily_sample = Housing_Price_sampler(30)\n",
    "    daily_sample_mean[i] = np.mean(daily_sample)"
   ]
  },
  {
   "cell_type": "code",
   "execution_count": 39,
   "metadata": {},
   "outputs": [
    {
     "data": {
      "image/png": "[encoded data removed]",
      "text/plain": [
       "<Figure size 432x288 with 1 Axes>"
      ]
     },
     "metadata": {
      "needs_background": "light"
     },
     "output_type": "display_data"
    }
   ],
   "source": [
    "_ = plt.hist(daily_sample_mean, bins=10)\n",
    "_ = plt.xlabel('Housing Price')\n",
    "_ = plt.ylabel('Number of Houses')\n",
    "_ = plt.title('Distribution of Housing Price')\n",
    "_ = plt.axvline(np.mean(daily_sample_mean), color='r')\n",
    "_ = plt.axvline(np.mean(daily_sample_mean)+np.std(daily_sample_mean), color='r', linestyle='--')\n",
    "_ = plt.axvline(np.mean(daily_sample_mean)-np.std(daily_sample_mean), color='r', linestyle='--')\n",
    "_ = plt.axvline(np.mean(daily_sample_mean)+(np.std(daily_sample_mean))*2, color='r', linestyle='-.')\n",
    "_ = plt.axvline(np.mean(daily_sample_mean)-(np.std(daily_sample_mean))*2, color='r', linestyle='-.')"
   ]
  },
  {
   "cell_type": "code",
   "execution_count": 40,
   "metadata": {},
   "outputs": [],
   "source": [
    "def Housing_Price_sampler(n):\n",
    "    return np.random.choice(House_Price[House_Price['OverallQual'] < 5]['SalePrice'], n)"
   ]
  },
  {
   "cell_type": "code",
   "execution_count": 41,
   "metadata": {},
   "outputs": [],
   "source": [
    "seed(42)\n",
    "# take your samples here\n",
    "daily_sample_mean = np.empty(10000)\n",
    "\n",
    "for i in range(10000):\n",
    "    daily_sample = Housing_Price_sampler(30)\n",
    "    daily_sample_mean[i] = np.mean(daily_sample)"
   ]
  },
  {
   "cell_type": "code",
   "execution_count": 42,
   "metadata": {},
   "outputs": [
    {
     "data": {
      "image/png": "[encoded data removed]",
      "text/plain": [
       "<Figure size 432x288 with 1 Axes>"
      ]
     },
     "metadata": {
      "needs_background": "light"
     },
     "output_type": "display_data"
    }
   ],
   "source": [
    "_ = plt.hist(daily_sample_mean, bins=10)\n",
    "_ = plt.xlabel('Housing Price')\n",
    "_ = plt.ylabel('Number of Houses')\n",
    "_ = plt.title('Distribution of Housing Price')\n",
    "_ = plt.axvline(np.mean(daily_sample_mean), color='r')\n",
    "_ = plt.axvline(np.mean(daily_sample_mean)+np.std(daily_sample_mean), color='r', linestyle='--')\n",
    "_ = plt.axvline(np.mean(daily_sample_mean)-np.std(daily_sample_mean), color='r', linestyle='--')\n",
    "_ = plt.axvline(np.mean(daily_sample_mean)+(np.std(daily_sample_mean))*2, color='r', linestyle='-.')\n",
    "_ = plt.axvline(np.mean(daily_sample_mean)-(np.std(daily_sample_mean))*2, color='r', linestyle='-.')"
   ]
  },
  {
   "cell_type": "code",
   "execution_count": 43,
   "metadata": {},
   "outputs": [
    {
     "name": "stdout",
     "output_type": "stream",
     "text": [
      "Lower Limit of 95% confidence interval using norm.ppf = 92827.16993030962\n",
      "Upper Limit of 95% confidence interval using norm.ppf = 111988.0606096904\n"
     ]
    }
   ],
   "source": [
    "from scipy.stats import norm\n",
    "s = np.std(daily_sample_mean)\n",
    "print('Lower Limit of 95% confidence interval using norm.ppf =' ,norm.ppf(0.025, loc=np.mean(daily_sample_mean), scale=s))\n",
    "print('Upper Limit of 95% confidence interval using norm.ppf =' ,norm.ppf(0.975, loc=np.mean(daily_sample_mean), scale=s))"
   ]
  },
  {
   "cell_type": "code",
   "execution_count": null,
   "metadata": {},
   "outputs": [],
   "source": []
  }
 ],
 "metadata": {
  "kernelspec": {
   "display_name": "Python 3",
   "language": "python",
   "name": "python3"
  },
  "language_info": {
   "codemirror_mode": {
    "name": "ipython",
    "version": 3
   },
   "file_extension": ".py",
   "mimetype": "text/x-python",
   "name": "python",
   "nbconvert_exporter": "python",
   "pygments_lexer": "ipython3",
   "version": "3.7.3"
  }
 },
 "nbformat": 4,
 "nbformat_minor": 2
}
