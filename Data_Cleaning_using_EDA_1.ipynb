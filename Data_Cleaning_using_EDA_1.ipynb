{
 "cells": [
  {
   "cell_type": "markdown",
   "metadata": {},
   "source": [
    "## Goals of the Data Cleaning - Using EDA\n",
    "1. Missing Values treatment \n",
    "2. Outliers treatment \n",
    "3. Zero values treatment \n",
    "4. Data Cleaning using Frequncy Distribution \n",
    "5. Feature selection using Multicolinearity "
   ]
  },
  {
   "cell_type": "code",
   "execution_count": 1,
   "metadata": {},
   "outputs": [],
   "source": [
    "import pandas as pd\n",
    "import numpy as np\n",
    "import matplotlib.pyplot as plt \n",
    "import re\n",
    "from collections import defaultdict\n",
    "from collections import Counter \n",
    "import seaborn as sns\n",
    "import warnings\n",
    "warnings.simplefilter(\"ignore\")"
   ]
  },
  {
   "cell_type": "markdown",
   "metadata": {},
   "source": [
    "### Import necessary Packages "
   ]
  },
  {
   "cell_type": "code",
   "execution_count": 2,
   "metadata": {},
   "outputs": [],
   "source": [
    "test = pd.read_csv('D:\\HATHWAY ISP\\DSC\\Project\\Housing\\\\test.csv')\n",
    "train = pd.read_csv('D:\\HATHWAY ISP\\DSC\\Project\\Housing\\\\train.csv')"
   ]
  },
  {
   "cell_type": "markdown",
   "metadata": {},
   "source": [
    "### Drop the Unwanted Feature\n",
    "ID [Feature] has no meaning in the Given Dataset. So we will drop this Feature "
   ]
  },
  {
   "cell_type": "code",
   "execution_count": 3,
   "metadata": {},
   "outputs": [],
   "source": [
    "train.drop('Id', axis = 1, inplace = True)"
   ]
  },
  {
   "cell_type": "markdown",
   "metadata": {},
   "source": [
    "## 1.Missing_Values_Treatment "
   ]
  },
  {
   "cell_type": "code",
   "execution_count": 6,
   "metadata": {},
   "outputs": [
    {
     "data": {
      "text/plain": [
       "['Alley', 'PoolQC', 'Fence', 'MiscFeature']"
      ]
     },
     "execution_count": 6,
     "metadata": {},
     "output_type": "execute_result"
    }
   ],
   "source": [
    "missing_features(train,50)"
   ]
  },
  {
   "cell_type": "markdown",
   "metadata": {},
   "source": [
    "* Above features are categorical  and conains more than 50% of missing data , we will drop those features having 50% missing values"
   ]
  },
  {
   "cell_type": "code",
   "execution_count": 7,
   "metadata": {},
   "outputs": [],
   "source": [
    "for Unwanted_feature in missing_features(train,50):\n",
    "    train.drop(Unwanted_feature, axis = 1, inplace = True)"
   ]
  },
  {
   "cell_type": "code",
   "execution_count": 8,
   "metadata": {},
   "outputs": [
    {
     "data": {
      "text/plain": [
       "(1460, 76)"
      ]
     },
     "execution_count": 8,
     "metadata": {},
     "output_type": "execute_result"
    }
   ],
   "source": [
    "train.shape"
   ]
  },
  {
   "cell_type": "code",
   "execution_count": 9,
   "metadata": {},
   "outputs": [
    {
     "data": {
      "text/html": [
       "<div>\n",
       "<style scoped>\n",
       "    .dataframe tbody tr th:only-of-type {\n",
       "        vertical-align: middle;\n",
       "    }\n",
       "\n",
       "    .dataframe tbody tr th {\n",
       "        vertical-align: top;\n",
       "    }\n",
       "\n",
       "    .dataframe thead th {\n",
       "        text-align: right;\n",
       "    }\n",
       "</style>\n",
       "<table border=\"1\" class=\"dataframe\">\n",
       "  <thead>\n",
       "    <tr style=\"text-align: right;\">\n",
       "      <th></th>\n",
       "      <th>Missing_%</th>\n",
       "      <th>Missing_Count</th>\n",
       "      <th>Zero_%</th>\n",
       "      <th>Zeros_Count</th>\n",
       "      <th>Distinct_Count</th>\n",
       "      <th>Mean</th>\n",
       "      <th>Std_From_Mean</th>\n",
       "      <th>Median</th>\n",
       "      <th>Std_From_Median</th>\n",
       "    </tr>\n",
       "    <tr>\n",
       "      <th>Feature_Name</th>\n",
       "      <th></th>\n",
       "      <th></th>\n",
       "      <th></th>\n",
       "      <th></th>\n",
       "      <th></th>\n",
       "      <th></th>\n",
       "      <th></th>\n",
       "      <th></th>\n",
       "      <th></th>\n",
       "    </tr>\n",
       "  </thead>\n",
       "  <tbody>\n",
       "    <tr>\n",
       "      <th>LotFrontage</th>\n",
       "      <td>17.739726</td>\n",
       "      <td>259.0</td>\n",
       "      <td>0.000000</td>\n",
       "      <td>0.0</td>\n",
       "      <td>111.0</td>\n",
       "      <td>70.049958</td>\n",
       "      <td>24.284752</td>\n",
       "      <td>69.0</td>\n",
       "      <td>NaN</td>\n",
       "    </tr>\n",
       "    <tr>\n",
       "      <th>MasVnrArea</th>\n",
       "      <td>0.547945</td>\n",
       "      <td>8.0</td>\n",
       "      <td>58.972603</td>\n",
       "      <td>861.0</td>\n",
       "      <td>328.0</td>\n",
       "      <td>103.685262</td>\n",
       "      <td>181.066207</td>\n",
       "      <td>0.0</td>\n",
       "      <td>NaN</td>\n",
       "    </tr>\n",
       "    <tr>\n",
       "      <th>GarageYrBlt</th>\n",
       "      <td>5.547945</td>\n",
       "      <td>81.0</td>\n",
       "      <td>0.000000</td>\n",
       "      <td>0.0</td>\n",
       "      <td>98.0</td>\n",
       "      <td>1978.506164</td>\n",
       "      <td>24.689725</td>\n",
       "      <td>1980.0</td>\n",
       "      <td>NaN</td>\n",
       "    </tr>\n",
       "  </tbody>\n",
       "</table>\n",
       "</div>"
      ],
      "text/plain": [
       "              Missing_%  Missing_Count     Zero_%  Zeros_Count  \\\n",
       "Feature_Name                                                     \n",
       "LotFrontage   17.739726          259.0   0.000000          0.0   \n",
       "MasVnrArea     0.547945            8.0  58.972603        861.0   \n",
       "GarageYrBlt    5.547945           81.0   0.000000          0.0   \n",
       "\n",
       "              Distinct_Count         Mean  Std_From_Mean  Median  \\\n",
       "Feature_Name                                                       \n",
       "LotFrontage            111.0    70.049958      24.284752    69.0   \n",
       "MasVnrArea             328.0   103.685262     181.066207     0.0   \n",
       "GarageYrBlt             98.0  1978.506164      24.689725  1980.0   \n",
       "\n",
       "              Std_From_Median  \n",
       "Feature_Name                   \n",
       "LotFrontage               NaN  \n",
       "MasVnrArea                NaN  \n",
       "GarageYrBlt               NaN  "
      ]
     },
     "execution_count": 9,
     "metadata": {},
     "output_type": "execute_result"
    }
   ],
   "source": [
    "Numeric_Info(train[missing_Percent_Feature(train)])"
   ]
  },
  {
   "cell_type": "markdown",
   "metadata": {},
   "source": [
    "* 3 Numerical Features contains missing data . we will fill the 2 Features msiing data with mean of the feature.\n",
    "* But MasVnrArea has 58 % zero values , so we ignoire the zero values and calculate the mean to fill missing values "
   ]
  },
  {
   "cell_type": "code",
   "execution_count": 10,
   "metadata": {},
   "outputs": [],
   "source": [
    "features = ['LotFrontage','GarageYrBlt']\n",
    "for feature in features :\n",
    "    mean_f = train[feature].mean()\n",
    "    train[feature] = train[feature].fillna(mean_f) "
   ]
  },
  {
   "cell_type": "code",
   "execution_count": 11,
   "metadata": {},
   "outputs": [
    {
     "data": {
      "text/html": [
       "<div>\n",
       "<style scoped>\n",
       "    .dataframe tbody tr th:only-of-type {\n",
       "        vertical-align: middle;\n",
       "    }\n",
       "\n",
       "    .dataframe tbody tr th {\n",
       "        vertical-align: top;\n",
       "    }\n",
       "\n",
       "    .dataframe thead th {\n",
       "        text-align: right;\n",
       "    }\n",
       "</style>\n",
       "<table border=\"1\" class=\"dataframe\">\n",
       "  <thead>\n",
       "    <tr style=\"text-align: right;\">\n",
       "      <th></th>\n",
       "      <th>Missing_%</th>\n",
       "      <th>Missing_Count</th>\n",
       "      <th>Zero_%</th>\n",
       "      <th>Zeros_Count</th>\n",
       "      <th>Distinct_Count</th>\n",
       "      <th>Mean</th>\n",
       "      <th>Std_From_Mean</th>\n",
       "      <th>Median</th>\n",
       "      <th>Std_From_Median</th>\n",
       "    </tr>\n",
       "    <tr>\n",
       "      <th>Feature_Name</th>\n",
       "      <th></th>\n",
       "      <th></th>\n",
       "      <th></th>\n",
       "      <th></th>\n",
       "      <th></th>\n",
       "      <th></th>\n",
       "      <th></th>\n",
       "      <th></th>\n",
       "      <th></th>\n",
       "    </tr>\n",
       "  </thead>\n",
       "  <tbody>\n",
       "    <tr>\n",
       "      <th>MasVnrArea</th>\n",
       "      <td>0.547945</td>\n",
       "      <td>8.0</td>\n",
       "      <td>58.972603</td>\n",
       "      <td>861.0</td>\n",
       "      <td>328.0</td>\n",
       "      <td>103.685262</td>\n",
       "      <td>181.066207</td>\n",
       "      <td>0.0</td>\n",
       "      <td>NaN</td>\n",
       "    </tr>\n",
       "  </tbody>\n",
       "</table>\n",
       "</div>"
      ],
      "text/plain": [
       "              Missing_%  Missing_Count     Zero_%  Zeros_Count  \\\n",
       "Feature_Name                                                     \n",
       "MasVnrArea     0.547945            8.0  58.972603        861.0   \n",
       "\n",
       "              Distinct_Count        Mean  Std_From_Mean  Median  \\\n",
       "Feature_Name                                                      \n",
       "MasVnrArea             328.0  103.685262     181.066207     0.0   \n",
       "\n",
       "              Std_From_Median  \n",
       "Feature_Name                   \n",
       "MasVnrArea                NaN  "
      ]
     },
     "execution_count": 11,
     "metadata": {},
     "output_type": "execute_result"
    }
   ],
   "source": [
    "Numeric_Info(train[missing_Percent_Feature(train)])"
   ]
  },
  {
   "cell_type": "code",
   "execution_count": 12,
   "metadata": {},
   "outputs": [],
   "source": [
    "mean_f = train['MasVnrArea'].sum()/(len(train['MasVnrArea'])-861)\n",
    "train['MasVnrArea'] = train['MasVnrArea'].fillna(mean_f) "
   ]
  },
  {
   "cell_type": "code",
   "execution_count": 13,
   "metadata": {},
   "outputs": [
    {
     "data": {
      "text/html": [
       "<div>\n",
       "<style scoped>\n",
       "    .dataframe tbody tr th:only-of-type {\n",
       "        vertical-align: middle;\n",
       "    }\n",
       "\n",
       "    .dataframe tbody tr th {\n",
       "        vertical-align: top;\n",
       "    }\n",
       "\n",
       "    .dataframe thead th {\n",
       "        text-align: right;\n",
       "    }\n",
       "</style>\n",
       "<table border=\"1\" class=\"dataframe\">\n",
       "  <thead>\n",
       "    <tr style=\"text-align: right;\">\n",
       "      <th></th>\n",
       "      <th>Mode</th>\n",
       "      <th>Missing_%</th>\n",
       "      <th>Missing_Count</th>\n",
       "      <th>Distinct_Count</th>\n",
       "    </tr>\n",
       "    <tr>\n",
       "      <th>Feature_Name</th>\n",
       "      <th></th>\n",
       "      <th></th>\n",
       "      <th></th>\n",
       "      <th></th>\n",
       "    </tr>\n",
       "  </thead>\n",
       "  <tbody>\n",
       "    <tr>\n",
       "      <th>MasVnrType</th>\n",
       "      <td>None</td>\n",
       "      <td>0.547945</td>\n",
       "      <td>8.0</td>\n",
       "      <td>5.0</td>\n",
       "    </tr>\n",
       "    <tr>\n",
       "      <th>BsmtQual</th>\n",
       "      <td>TA</td>\n",
       "      <td>2.534247</td>\n",
       "      <td>37.0</td>\n",
       "      <td>5.0</td>\n",
       "    </tr>\n",
       "    <tr>\n",
       "      <th>BsmtCond</th>\n",
       "      <td>TA</td>\n",
       "      <td>2.534247</td>\n",
       "      <td>37.0</td>\n",
       "      <td>5.0</td>\n",
       "    </tr>\n",
       "    <tr>\n",
       "      <th>BsmtExposure</th>\n",
       "      <td>No</td>\n",
       "      <td>2.602740</td>\n",
       "      <td>38.0</td>\n",
       "      <td>5.0</td>\n",
       "    </tr>\n",
       "    <tr>\n",
       "      <th>BsmtFinType1</th>\n",
       "      <td>Unf</td>\n",
       "      <td>2.534247</td>\n",
       "      <td>37.0</td>\n",
       "      <td>7.0</td>\n",
       "    </tr>\n",
       "    <tr>\n",
       "      <th>BsmtFinType2</th>\n",
       "      <td>Unf</td>\n",
       "      <td>2.602740</td>\n",
       "      <td>38.0</td>\n",
       "      <td>7.0</td>\n",
       "    </tr>\n",
       "    <tr>\n",
       "      <th>Electrical</th>\n",
       "      <td>SBrkr</td>\n",
       "      <td>0.068493</td>\n",
       "      <td>1.0</td>\n",
       "      <td>6.0</td>\n",
       "    </tr>\n",
       "    <tr>\n",
       "      <th>FireplaceQu</th>\n",
       "      <td>NaN</td>\n",
       "      <td>47.260274</td>\n",
       "      <td>690.0</td>\n",
       "      <td>6.0</td>\n",
       "    </tr>\n",
       "    <tr>\n",
       "      <th>GarageType</th>\n",
       "      <td>Attchd</td>\n",
       "      <td>5.547945</td>\n",
       "      <td>81.0</td>\n",
       "      <td>7.0</td>\n",
       "    </tr>\n",
       "    <tr>\n",
       "      <th>GarageFinish</th>\n",
       "      <td>Unf</td>\n",
       "      <td>5.547945</td>\n",
       "      <td>81.0</td>\n",
       "      <td>4.0</td>\n",
       "    </tr>\n",
       "    <tr>\n",
       "      <th>GarageQual</th>\n",
       "      <td>TA</td>\n",
       "      <td>5.547945</td>\n",
       "      <td>81.0</td>\n",
       "      <td>6.0</td>\n",
       "    </tr>\n",
       "    <tr>\n",
       "      <th>GarageCond</th>\n",
       "      <td>TA</td>\n",
       "      <td>5.547945</td>\n",
       "      <td>81.0</td>\n",
       "      <td>6.0</td>\n",
       "    </tr>\n",
       "  </tbody>\n",
       "</table>\n",
       "</div>"
      ],
      "text/plain": [
       "                Mode  Missing_%  Missing_Count  Distinct_Count\n",
       "Feature_Name                                                  \n",
       "MasVnrType      None   0.547945            8.0             5.0\n",
       "BsmtQual          TA   2.534247           37.0             5.0\n",
       "BsmtCond          TA   2.534247           37.0             5.0\n",
       "BsmtExposure      No   2.602740           38.0             5.0\n",
       "BsmtFinType1     Unf   2.534247           37.0             7.0\n",
       "BsmtFinType2     Unf   2.602740           38.0             7.0\n",
       "Electrical     SBrkr   0.068493            1.0             6.0\n",
       "FireplaceQu      NaN  47.260274          690.0             6.0\n",
       "GarageType    Attchd   5.547945           81.0             7.0\n",
       "GarageFinish     Unf   5.547945           81.0             4.0\n",
       "GarageQual        TA   5.547945           81.0             6.0\n",
       "GarageCond        TA   5.547945           81.0             6.0"
      ]
     },
     "execution_count": 13,
     "metadata": {},
     "output_type": "execute_result"
    }
   ],
   "source": [
    "Categorical_Info(train[missing_Percent_Feature(train)])"
   ]
  },
  {
   "cell_type": "markdown",
   "metadata": {},
   "source": [
    "* We will consider Mode to fill missing values in the above categorical features except FireplaceQu .\n",
    "* FireplaceQu has most occuring value - NaN i.e missing And these missing % is very close to 50 % of data points \n",
    "* as filling these missing values negatively imapct target variable .So it will beter to drop it"
   ]
  },
  {
   "cell_type": "code",
   "execution_count": 14,
   "metadata": {},
   "outputs": [],
   "source": [
    "train.drop('FireplaceQu', axis = 1, inplace = True)"
   ]
  },
  {
   "cell_type": "code",
   "execution_count": 15,
   "metadata": {},
   "outputs": [],
   "source": [
    "for feature in missing_Percent_Feature(train) :\n",
    "    CO = Counter(train[feature])\n",
    "    data , count = (CO.most_common(1)[0])\n",
    "    train[feature] = train[feature].fillna(data)"
   ]
  },
  {
   "cell_type": "markdown",
   "metadata": {},
   "source": [
    "##  2.Frequncy_Distribution "
   ]
  },
  {
   "cell_type": "markdown",
   "metadata": {},
   "source": [
    "* Below list contains the Features that contain  a category having 80 % values "
   ]
  },
  {
   "cell_type": "code",
   "execution_count": 16,
   "metadata": {},
   "outputs": [
    {
     "data": {
      "text/html": [
       "<div>\n",
       "<style scoped>\n",
       "    .dataframe tbody tr th:only-of-type {\n",
       "        vertical-align: middle;\n",
       "    }\n",
       "\n",
       "    .dataframe tbody tr th {\n",
       "        vertical-align: top;\n",
       "    }\n",
       "\n",
       "    .dataframe thead th {\n",
       "        text-align: right;\n",
       "    }\n",
       "</style>\n",
       "<table border=\"1\" class=\"dataframe\">\n",
       "  <thead>\n",
       "    <tr style=\"text-align: right;\">\n",
       "      <th></th>\n",
       "      <th>0</th>\n",
       "      <th>Mode</th>\n",
       "      <th>Distinct_Count</th>\n",
       "    </tr>\n",
       "  </thead>\n",
       "  <tbody>\n",
       "    <tr>\n",
       "      <th>Utilities</th>\n",
       "      <td>100.000000</td>\n",
       "      <td>AllPub</td>\n",
       "      <td>2.0</td>\n",
       "    </tr>\n",
       "    <tr>\n",
       "      <th>Street</th>\n",
       "      <td>99.657300</td>\n",
       "      <td>Pave</td>\n",
       "      <td>2.0</td>\n",
       "    </tr>\n",
       "    <tr>\n",
       "      <th>Condition2</th>\n",
       "      <td>99.040439</td>\n",
       "      <td>Norm</td>\n",
       "      <td>8.0</td>\n",
       "    </tr>\n",
       "    <tr>\n",
       "      <th>RoofMatl</th>\n",
       "      <td>98.286498</td>\n",
       "      <td>CompShg</td>\n",
       "      <td>8.0</td>\n",
       "    </tr>\n",
       "    <tr>\n",
       "      <th>Heating</th>\n",
       "      <td>97.875257</td>\n",
       "      <td>GasA</td>\n",
       "      <td>6.0</td>\n",
       "    </tr>\n",
       "    <tr>\n",
       "      <th>GarageCond</th>\n",
       "      <td>96.435915</td>\n",
       "      <td>TA</td>\n",
       "      <td>5.0</td>\n",
       "    </tr>\n",
       "    <tr>\n",
       "      <th>GarageQual</th>\n",
       "      <td>95.407814</td>\n",
       "      <td>TA</td>\n",
       "      <td>5.0</td>\n",
       "    </tr>\n",
       "    <tr>\n",
       "      <th>LandSlope</th>\n",
       "      <td>94.722413</td>\n",
       "      <td>Gtl</td>\n",
       "      <td>3.0</td>\n",
       "    </tr>\n",
       "    <tr>\n",
       "      <th>CentralAir</th>\n",
       "      <td>93.557231</td>\n",
       "      <td>Y</td>\n",
       "      <td>2.0</td>\n",
       "    </tr>\n",
       "    <tr>\n",
       "      <th>Functional</th>\n",
       "      <td>93.214531</td>\n",
       "      <td>Typ</td>\n",
       "      <td>7.0</td>\n",
       "    </tr>\n",
       "    <tr>\n",
       "      <th>BsmtCond</th>\n",
       "      <td>92.392049</td>\n",
       "      <td>TA</td>\n",
       "      <td>4.0</td>\n",
       "    </tr>\n",
       "    <tr>\n",
       "      <th>PavedDrive</th>\n",
       "      <td>91.843729</td>\n",
       "      <td>Y</td>\n",
       "      <td>3.0</td>\n",
       "    </tr>\n",
       "    <tr>\n",
       "      <th>Electrical</th>\n",
       "      <td>91.501028</td>\n",
       "      <td>SBrkr</td>\n",
       "      <td>5.0</td>\n",
       "    </tr>\n",
       "    <tr>\n",
       "      <th>LandContour</th>\n",
       "      <td>89.856066</td>\n",
       "      <td>Lvl</td>\n",
       "      <td>4.0</td>\n",
       "    </tr>\n",
       "    <tr>\n",
       "      <th>BsmtFinType2</th>\n",
       "      <td>88.690884</td>\n",
       "      <td>Unf</td>\n",
       "      <td>6.0</td>\n",
       "    </tr>\n",
       "    <tr>\n",
       "      <th>ExterCond</th>\n",
       "      <td>87.868403</td>\n",
       "      <td>TA</td>\n",
       "      <td>5.0</td>\n",
       "    </tr>\n",
       "    <tr>\n",
       "      <th>SaleType</th>\n",
       "      <td>86.840302</td>\n",
       "      <td>WD</td>\n",
       "      <td>9.0</td>\n",
       "    </tr>\n",
       "    <tr>\n",
       "      <th>Condition1</th>\n",
       "      <td>86.360521</td>\n",
       "      <td>Norm</td>\n",
       "      <td>9.0</td>\n",
       "    </tr>\n",
       "    <tr>\n",
       "      <th>BldgType</th>\n",
       "      <td>83.618917</td>\n",
       "      <td>1Fam</td>\n",
       "      <td>5.0</td>\n",
       "    </tr>\n",
       "    <tr>\n",
       "      <th>SaleCondition</th>\n",
       "      <td>82.111035</td>\n",
       "      <td>Normal</td>\n",
       "      <td>6.0</td>\n",
       "    </tr>\n",
       "  </tbody>\n",
       "</table>\n",
       "</div>"
      ],
      "text/plain": [
       "                        0     Mode  Distinct_Count\n",
       "Utilities      100.000000   AllPub             2.0\n",
       "Street          99.657300     Pave             2.0\n",
       "Condition2      99.040439     Norm             8.0\n",
       "RoofMatl        98.286498  CompShg             8.0\n",
       "Heating         97.875257     GasA             6.0\n",
       "GarageCond      96.435915       TA             5.0\n",
       "GarageQual      95.407814       TA             5.0\n",
       "LandSlope       94.722413      Gtl             3.0\n",
       "CentralAir      93.557231        Y             2.0\n",
       "Functional      93.214531      Typ             7.0\n",
       "BsmtCond        92.392049       TA             4.0\n",
       "PavedDrive      91.843729        Y             3.0\n",
       "Electrical      91.501028    SBrkr             5.0\n",
       "LandContour     89.856066      Lvl             4.0\n",
       "BsmtFinType2    88.690884      Unf             6.0\n",
       "ExterCond       87.868403       TA             5.0\n",
       "SaleType        86.840302       WD             9.0\n",
       "Condition1      86.360521     Norm             9.0\n",
       "BldgType        83.618917     1Fam             5.0\n",
       "SaleCondition   82.111035   Normal             6.0"
      ]
     },
     "execution_count": 16,
     "metadata": {},
     "output_type": "execute_result"
    }
   ],
   "source": [
    "cat_freq_list()"
   ]
  },
  {
   "cell_type": "markdown",
   "metadata": {},
   "source": [
    "## We will drop the Features that contains a categorry having 80% values as it doesnt make sense to keep these variables"
   ]
  },
  {
   "cell_type": "code",
   "execution_count": 17,
   "metadata": {},
   "outputs": [],
   "source": [
    "for Unwanted_feature in list(cat_freq_list().index):\n",
    "    train.drop(Unwanted_feature, axis = 1, inplace = True)"
   ]
  },
  {
   "cell_type": "code",
   "execution_count": 18,
   "metadata": {},
   "outputs": [
    {
     "data": {
      "text/plain": [
       "(1460, 55)"
      ]
     },
     "execution_count": 18,
     "metadata": {},
     "output_type": "execute_result"
    }
   ],
   "source": [
    "train.shape"
   ]
  },
  {
   "cell_type": "markdown",
   "metadata": {},
   "source": [
    "#  3.Zero_Values_Treatment "
   ]
  },
  {
   "cell_type": "markdown",
   "metadata": {},
   "source": [
    "### We will drop the Features that contains data points having 80% Zeros"
   ]
  },
  {
   "cell_type": "code",
   "execution_count": 19,
   "metadata": {},
   "outputs": [
    {
     "data": {
      "text/plain": [
       "Feature_Name\n",
       "PoolArea         99.520548\n",
       "3SsnPorch        98.356164\n",
       "LowQualFinSF     98.219178\n",
       "MiscVal          96.438356\n",
       "BsmtHalfBath     94.383562\n",
       "ScreenPorch      92.054795\n",
       "BsmtFinSF2       88.561644\n",
       "EnclosedPorch    85.753425\n",
       "Name: Zero_%, dtype: float64"
      ]
     },
     "execution_count": 19,
     "metadata": {},
     "output_type": "execute_result"
    }
   ],
   "source": [
    "data_num=Numeric_Info(train)\n",
    "data_num_mis=data_num[data_num['Zero_%'] > 80]\n",
    "data_num_mis['Zero_%'].sort_values(ascending=False)"
   ]
  },
  {
   "cell_type": "code",
   "execution_count": 20,
   "metadata": {},
   "outputs": [],
   "source": [
    "for Unwanted_feature in list(data_num_mis['Zero_%'].index):\n",
    "    train.drop(Unwanted_feature, axis = 1, inplace = True)"
   ]
  },
  {
   "cell_type": "code",
   "execution_count": 21,
   "metadata": {},
   "outputs": [
    {
     "data": {
      "text/plain": [
       "(1460, 47)"
      ]
     },
     "execution_count": 21,
     "metadata": {},
     "output_type": "execute_result"
    }
   ],
   "source": [
    "train.shape"
   ]
  },
  {
   "cell_type": "markdown",
   "metadata": {},
   "source": [
    "##  4.Multicolinearity "
   ]
  },
  {
   "cell_type": "markdown",
   "metadata": {},
   "source": [
    "## We will drop the features those have  postive corelation above 0.7 among each other and retain only one that has more corelation with target variable"
   ]
  },
  {
   "cell_type": "code",
   "execution_count": 23,
   "metadata": {},
   "outputs": [
    {
     "data": {
      "text/html": [
       "<div>\n",
       "<style scoped>\n",
       "    .dataframe tbody tr th:only-of-type {\n",
       "        vertical-align: middle;\n",
       "    }\n",
       "\n",
       "    .dataframe tbody tr th {\n",
       "        vertical-align: top;\n",
       "    }\n",
       "\n",
       "    .dataframe thead th {\n",
       "        text-align: right;\n",
       "    }\n",
       "</style>\n",
       "<table border=\"1\" class=\"dataframe\">\n",
       "  <thead>\n",
       "    <tr style=\"text-align: right;\">\n",
       "      <th></th>\n",
       "      <th>A</th>\n",
       "      <th>B</th>\n",
       "      <th>Co_Variance</th>\n",
       "    </tr>\n",
       "  </thead>\n",
       "  <tbody>\n",
       "    <tr>\n",
       "      <th>0</th>\n",
       "      <td>TotRmsAbvGrd</td>\n",
       "      <td>GrLivArea</td>\n",
       "      <td>0.825489</td>\n",
       "    </tr>\n",
       "    <tr>\n",
       "      <th>1</th>\n",
       "      <td>0.780555</td>\n",
       "      <td>GarageYrBlt</td>\n",
       "      <td>YearBuilt</td>\n",
       "    </tr>\n",
       "    <tr>\n",
       "      <th>2</th>\n",
       "      <td>GarageArea</td>\n",
       "      <td>GarageCars</td>\n",
       "      <td>0.882475</td>\n",
       "    </tr>\n",
       "    <tr>\n",
       "      <th>3</th>\n",
       "      <td>1stFlrSF</td>\n",
       "      <td>TotalBsmtSF</td>\n",
       "      <td>0.81953</td>\n",
       "    </tr>\n",
       "  </tbody>\n",
       "</table>\n",
       "</div>"
      ],
      "text/plain": [
       "              A            B Co_Variance\n",
       "0  TotRmsAbvGrd    GrLivArea    0.825489\n",
       "1      0.780555  GarageYrBlt   YearBuilt\n",
       "2    GarageArea   GarageCars    0.882475\n",
       "3      1stFlrSF  TotalBsmtSF     0.81953"
      ]
     },
     "execution_count": 23,
     "metadata": {},
     "output_type": "execute_result"
    }
   ],
   "source": [
    "data1=Co_Variance_Info_ex(train,0.7)\n",
    "data1[['A','B','Co_Variance']]"
   ]
  },
  {
   "cell_type": "code",
   "execution_count": 24,
   "metadata": {},
   "outputs": [],
   "source": [
    "list_f = ['GarageYrBlt','TotRmsAbvGrd','TotalBsmtSF','GarageCars']\n",
    "for Unwanted_feature in list_f:\n",
    "    train.drop(Unwanted_feature, axis = 1, inplace = True)"
   ]
  },
  {
   "cell_type": "code",
   "execution_count": 25,
   "metadata": {},
   "outputs": [
    {
     "data": {
      "text/plain": [
       "(1460, 43)"
      ]
     },
     "execution_count": 25,
     "metadata": {},
     "output_type": "execute_result"
    }
   ],
   "source": [
    "train.shape"
   ]
  },
  {
   "cell_type": "markdown",
   "metadata": {},
   "source": [
    "## 5.Outliers Treatment "
   ]
  },
  {
   "cell_type": "code",
   "execution_count": 26,
   "metadata": {
    "scrolled": false
   },
   "outputs": [
    {
     "data": {
      "image/png": "[encoded data removed]",
      "text/plain": [
       "<Figure size 864x720 with 1 Axes>"
      ]
     },
     "metadata": {
      "needs_background": "light"
     },
     "output_type": "display_data"
    }
   ],
   "source": [
    "from matplotlib import cm\n",
    "cmap = cm.get_cmap('jet')\n",
    "                   \n",
    "data1 = get_outlier_num(train) \n",
    "out_features = list(set(data1.index) - set(['MSSubClass','BedroomAbvGr','OverallQual','YearBuilt','SalePrice']))\n",
    "data1 = data1.loc[out_features]\n",
    "data1 = data1.sort_values(ascending=True,by='Max_Side_Outlier')\n",
    "ax = data1.plot(kind='barh', figsize=(12,10), stacked=True, title='Outliers Count in Min & Max Direction', colormap=cmap, xlim=[-100,100])\n",
    "ax.set_xlabel(\"Count Of Outliers\")\n",
    "ax.set_ylabel(\"Feature Name\")\n",
    "ax.spines['top'].set_visible(False)\n",
    "ax.spines['right'].set_visible(False)\n",
    "ax.spines['left'].set_visible(False)"
   ]
  },
  {
   "cell_type": "code",
   "execution_count": 27,
   "metadata": {},
   "outputs": [
    {
     "data": {
      "text/html": [
       "<div>\n",
       "<style scoped>\n",
       "    .dataframe tbody tr th:only-of-type {\n",
       "        vertical-align: middle;\n",
       "    }\n",
       "\n",
       "    .dataframe tbody tr th {\n",
       "        vertical-align: top;\n",
       "    }\n",
       "\n",
       "    .dataframe thead th {\n",
       "        text-align: right;\n",
       "    }\n",
       "</style>\n",
       "<table border=\"1\" class=\"dataframe\">\n",
       "  <thead>\n",
       "    <tr style=\"text-align: right;\">\n",
       "      <th></th>\n",
       "      <th>Missing_%</th>\n",
       "      <th>Missing_Count</th>\n",
       "      <th>Zero_%</th>\n",
       "      <th>Zeros_Count</th>\n",
       "      <th>Distinct_Count</th>\n",
       "      <th>Mean</th>\n",
       "      <th>Std_From_Mean</th>\n",
       "      <th>Median</th>\n",
       "      <th>Std_From_Median</th>\n",
       "    </tr>\n",
       "    <tr>\n",
       "      <th>Feature_Name</th>\n",
       "      <th></th>\n",
       "      <th></th>\n",
       "      <th></th>\n",
       "      <th></th>\n",
       "      <th></th>\n",
       "      <th></th>\n",
       "      <th></th>\n",
       "      <th></th>\n",
       "      <th></th>\n",
       "    </tr>\n",
       "  </thead>\n",
       "  <tbody>\n",
       "    <tr>\n",
       "      <th>BsmtFinSF1</th>\n",
       "      <td>0.0</td>\n",
       "      <td>0.0</td>\n",
       "      <td>31.986301</td>\n",
       "      <td>467.0</td>\n",
       "      <td>637.0</td>\n",
       "      <td>443.639726</td>\n",
       "      <td>456.098091</td>\n",
       "      <td>383.500000</td>\n",
       "      <td>460.048621</td>\n",
       "    </tr>\n",
       "    <tr>\n",
       "      <th>1stFlrSF</th>\n",
       "      <td>0.0</td>\n",
       "      <td>0.0</td>\n",
       "      <td>0.000000</td>\n",
       "      <td>0.0</td>\n",
       "      <td>753.0</td>\n",
       "      <td>1162.626712</td>\n",
       "      <td>386.587738</td>\n",
       "      <td>1087.000000</td>\n",
       "      <td>393.920549</td>\n",
       "    </tr>\n",
       "    <tr>\n",
       "      <th>GarageArea</th>\n",
       "      <td>0.0</td>\n",
       "      <td>0.0</td>\n",
       "      <td>5.547945</td>\n",
       "      <td>81.0</td>\n",
       "      <td>441.0</td>\n",
       "      <td>472.980137</td>\n",
       "      <td>213.804841</td>\n",
       "      <td>480.000000</td>\n",
       "      <td>213.920131</td>\n",
       "    </tr>\n",
       "    <tr>\n",
       "      <th>BsmtUnfSF</th>\n",
       "      <td>0.0</td>\n",
       "      <td>0.0</td>\n",
       "      <td>8.082192</td>\n",
       "      <td>118.0</td>\n",
       "      <td>780.0</td>\n",
       "      <td>567.240411</td>\n",
       "      <td>441.866955</td>\n",
       "      <td>477.500000</td>\n",
       "      <td>450.893854</td>\n",
       "    </tr>\n",
       "    <tr>\n",
       "      <th>GrLivArea</th>\n",
       "      <td>0.0</td>\n",
       "      <td>0.0</td>\n",
       "      <td>0.000000</td>\n",
       "      <td>0.0</td>\n",
       "      <td>861.0</td>\n",
       "      <td>1515.463699</td>\n",
       "      <td>525.480383</td>\n",
       "      <td>1464.000000</td>\n",
       "      <td>527.996175</td>\n",
       "    </tr>\n",
       "    <tr>\n",
       "      <th>LotFrontage</th>\n",
       "      <td>0.0</td>\n",
       "      <td>0.0</td>\n",
       "      <td>0.000000</td>\n",
       "      <td>0.0</td>\n",
       "      <td>111.0</td>\n",
       "      <td>70.049958</td>\n",
       "      <td>22.024023</td>\n",
       "      <td>70.049958</td>\n",
       "      <td>22.024023</td>\n",
       "    </tr>\n",
       "    <tr>\n",
       "      <th>LotArea</th>\n",
       "      <td>0.0</td>\n",
       "      <td>0.0</td>\n",
       "      <td>0.000000</td>\n",
       "      <td>0.0</td>\n",
       "      <td>1073.0</td>\n",
       "      <td>10516.828082</td>\n",
       "      <td>9981.264932</td>\n",
       "      <td>9478.500000</td>\n",
       "      <td>10035.163865</td>\n",
       "    </tr>\n",
       "    <tr>\n",
       "      <th>OpenPorchSF</th>\n",
       "      <td>0.0</td>\n",
       "      <td>0.0</td>\n",
       "      <td>44.931507</td>\n",
       "      <td>656.0</td>\n",
       "      <td>202.0</td>\n",
       "      <td>46.660274</td>\n",
       "      <td>66.256028</td>\n",
       "      <td>25.000000</td>\n",
       "      <td>69.709040</td>\n",
       "    </tr>\n",
       "  </tbody>\n",
       "</table>\n",
       "</div>"
      ],
      "text/plain": [
       "              Missing_%  Missing_Count     Zero_%  Zeros_Count  \\\n",
       "Feature_Name                                                     \n",
       "BsmtFinSF1          0.0            0.0  31.986301        467.0   \n",
       "1stFlrSF            0.0            0.0   0.000000          0.0   \n",
       "GarageArea          0.0            0.0   5.547945         81.0   \n",
       "BsmtUnfSF           0.0            0.0   8.082192        118.0   \n",
       "GrLivArea           0.0            0.0   0.000000          0.0   \n",
       "LotFrontage         0.0            0.0   0.000000          0.0   \n",
       "LotArea             0.0            0.0   0.000000          0.0   \n",
       "OpenPorchSF         0.0            0.0  44.931507        656.0   \n",
       "\n",
       "              Distinct_Count          Mean  Std_From_Mean       Median  \\\n",
       "Feature_Name                                                             \n",
       "BsmtFinSF1             637.0    443.639726     456.098091   383.500000   \n",
       "1stFlrSF               753.0   1162.626712     386.587738  1087.000000   \n",
       "GarageArea             441.0    472.980137     213.804841   480.000000   \n",
       "BsmtUnfSF              780.0    567.240411     441.866955   477.500000   \n",
       "GrLivArea              861.0   1515.463699     525.480383  1464.000000   \n",
       "LotFrontage            111.0     70.049958      22.024023    70.049958   \n",
       "LotArea               1073.0  10516.828082    9981.264932  9478.500000   \n",
       "OpenPorchSF            202.0     46.660274      66.256028    25.000000   \n",
       "\n",
       "              Std_From_Median  \n",
       "Feature_Name                   \n",
       "BsmtFinSF1         460.048621  \n",
       "1stFlrSF           393.920549  \n",
       "GarageArea         213.920131  \n",
       "BsmtUnfSF          450.893854  \n",
       "GrLivArea          527.996175  \n",
       "LotFrontage         22.024023  \n",
       "LotArea          10035.163865  \n",
       "OpenPorchSF         69.709040  "
      ]
     },
     "execution_count": 27,
     "metadata": {},
     "output_type": "execute_result"
    }
   ],
   "source": [
    "Numeric_Info(train[data1.index])"
   ]
  },
  {
   "cell_type": "code",
   "execution_count": 28,
   "metadata": {},
   "outputs": [],
   "source": [
    "out_features = list(set(data1.index) - set(['MSSubClass','BedroomAbvGr','OverallQual','YearBuilt','SalePrice']))"
   ]
  },
  {
   "cell_type": "code",
   "execution_count": 29,
   "metadata": {
    "scrolled": true
   },
   "outputs": [],
   "source": [
    "for feature in list(out_features) :\n",
    "    High , Low = get_outlier_num_high_low(train,feature)\n",
    "    if High !=0:\n",
    "        train = train[train[feature] < High]\n",
    "    if Low !=0:\n",
    "        train = train[train[feature] > Low]"
   ]
  },
  {
   "cell_type": "code",
   "execution_count": 30,
   "metadata": {},
   "outputs": [
    {
     "data": {
      "text/plain": [
       "(1187, 43)"
      ]
     },
     "execution_count": 30,
     "metadata": {},
     "output_type": "execute_result"
    }
   ],
   "source": [
    "train.shape"
   ]
  },
  {
   "cell_type": "markdown",
   "metadata": {},
   "source": [
    "#### Target Variable Distribution After Data Cleaning\n",
    "* Below Graph shows SalesPrice distribution - "
   ]
  },
  {
   "cell_type": "code",
   "execution_count": 31,
   "metadata": {},
   "outputs": [
    {
     "data": {
      "text/plain": [
       "<matplotlib.axes._subplots.AxesSubplot at 0x16353af2cc0>"
      ]
     },
     "execution_count": 31,
     "metadata": {},
     "output_type": "execute_result"
    },
    {
     "data": {
      "image/png": "[encoded data removed]",
      "text/plain": [
       "<Figure size 432x288 with 1 Axes>"
      ]
     },
     "metadata": {
      "needs_background": "light"
     },
     "output_type": "display_data"
    }
   ],
   "source": [
    "train['SalePrice'].plot(kind='hist')"
   ]
  },
  {
   "cell_type": "markdown",
   "metadata": {},
   "source": [
    "## ***Data Cleaning notebook end ***\n",
    "* List of Reusable EDA Funtions For Data Cleaning "
   ]
  },
  {
   "cell_type": "code",
   "execution_count": 5,
   "metadata": {},
   "outputs": [],
   "source": [
    "def distinct_feature_values(train_s):\n",
    "    return len(train_s.unique())\n",
    "def missing_feature_values(train_s):\n",
    "    return train_s.isnull().sum()\n",
    "def feature_mean_value(train_s):\n",
    "    return train_s.mean()\n",
    "def feature_max_value(train_s):\n",
    "    return train_s.max()\n",
    "def feature_min_value(train_s):\n",
    "    return train_s.min()\n",
    "def feature_zero_value(train_s):\n",
    "    return train_s[train_s == 0].count()\n",
    "def feature_mode_value(train_s):\n",
    "    CO = Counter(train_s)\n",
    "    data, count = (CO.most_common(1)[0])\n",
    "    return data\n",
    "def feature_freq_dist(feature,train_s):\n",
    "    return train_s.groupby(by=feature)[feature].count()\n",
    "def feature_median_value(train_s):\n",
    "    return train_s.median()\n",
    "def feature_std_mean_value(train_s):\n",
    "    return train_s.std()\n",
    "def feature_std_median_value(train_s):\n",
    "    std = 0\n",
    "    for value in train_s:\n",
    "        std += (value - train_s.median()) ** 2 \n",
    "        std_md = (np.sqrt(std) / np.sqrt(len(train_s) - 1 ) )\n",
    "    return std_md\n",
    "###############################################################################################################################\n",
    "\n",
    "# this function will return the min and max value outlier of the feature on single dimension \n",
    "\n",
    "def feature_outlier_values(train_s,feature):\n",
    "    outlier_Q3 = train_s[train_s[feature] > train_s[feature].median()]\n",
    "    Q3 = outlier_Q3[feature].sort_values().median()\n",
    "    outlier_Q1 = train_s[train_s[feature] < train_s[feature].median()]\n",
    "    Q1 = outlier_Q1[feature].sort_values().median()\n",
    "    IQR = Q3-Q1\n",
    "    High = (Q3) + (1.5 * IQR)\n",
    "    Low = (Q1) - (1.5 * IQR)\n",
    "    if train_s[feature].min() > Low:\n",
    "        Low = train_s[feature].min()\n",
    "    if train_s[feature].max() < High:\n",
    "        High = train_s[feature].max()\n",
    "    return High , Low\n",
    "\n",
    "# this function will return Dataframe of features containing outlier count in both direction  \n",
    "\n",
    "def get_outlier_num(train):\n",
    "    data1 = pd.DataFrame(np.random.rand(0, 3) * 0, columns=['Feature_Name', 'Min_Side_Outlier', 'Max_Side_Outlier'])\n",
    "    #l = len(list(train.select_dtypes(exclude = [\"object\"]).columns))\n",
    "    i=0\n",
    "    for feature in list(train.select_dtypes(exclude = [\"object\"]).columns):\n",
    "            High , Low = feature_outlier_values(train,feature)\n",
    "            out_high = train[train[feature] > High][feature].sort_values().count()\n",
    "            out_Low = train[train[feature] < Low][feature].sort_values().count()\n",
    "            s = '<-Minimum--------Maximum->' \n",
    "            if ( out_high!=0) | (out_Low!=0):\n",
    "                data1.loc[i, 'Feature_Name']     = feature\n",
    "                data1.loc[i, 'Min_Side_Outlier'] = out_Low\n",
    "                data1.loc[i, 'Max_Side_Outlier'] = out_high\n",
    "                i+=1\n",
    "    data1 = data1.set_index('Feature_Name') \n",
    "    data1['Min_Side_Outlier'] = data1['Min_Side_Outlier'] * -1\n",
    "    return data1.sort_values(by='Max_Side_Outlier', ascending=True)\n",
    "\n",
    "# Get Numeric Feature Info about Dataset \n",
    "\n",
    "def Numeric_Info(train):\n",
    "    i=0\n",
    "    data1 = pd.DataFrame(np.random.rand(0, 10) * 0, columns=['Feature_Name', 'Missing_%', 'Missing_Count', 'Zero_%', 'Zeros_Count', 'Distinct_Count', 'Mean', 'Std_From_Mean', 'Median', 'Std_From_Median'])#,'Maximum', 'Minimum', 'Outliers_Count_Max', 'Outliers_Count_Min'])\n",
    "    for feature in list(train.select_dtypes(exclude = [\"object\"]).columns):\n",
    "        #feature_info[feature] = [distinct_feature_values(train[feature])]\n",
    "        data1.loc[i, 'Feature_Name']           = feature\n",
    "       # data1.loc[i, 'Maximum']                = feature_max_value(train[feature])        \n",
    "      #  data1.loc[i, 'Minimum']                = feature_min_value(train[feature])\n",
    "        data1.loc[i, 'Mean']                   = feature_mean_value(train[feature])\n",
    "        data1.loc[i, 'Median']                 = feature_median_value(train[feature])\n",
    "        data1.loc[i, 'Std_From_Mean']          = feature_std_mean_value(train[feature])\n",
    "        data1.loc[i, 'Std_From_Median']        = feature_std_median_value(train[feature])\n",
    "        data1.loc[i, 'Missing_%']              = missing_feature_values(train[feature])/len(train[feature])*100\n",
    "        data1.loc[i, 'Missing_Count']          = missing_feature_values(train[feature])        \n",
    "        data1.loc[i, 'Zero_%']                 = feature_zero_value(train[feature])/len(train[feature])*100\n",
    "        data1.loc[i, 'Zeros_Count']            = feature_zero_value(train[feature])        \n",
    "        data1.loc[i, 'Distinct_Count']         = distinct_feature_values(train[feature]) \n",
    "        #data1.loc[i, 'Outliers_Count_Max']     = distinct_feature_values(train[feature]) \n",
    "        #data1.loc[i, 'Outliers_Count_Min']     = distinct_feature_values(train[feature]) \n",
    "        i+=1\n",
    "    data1 = data1.set_index('Feature_Name') \n",
    "    return data1\n",
    "\n",
    "def Categorical_Info(train):\n",
    "    i=0\n",
    "    data1 = pd.DataFrame(np.random.rand(0, 5) * 0, columns=['Feature_Name', 'Mode', 'Missing_%', 'Missing_Count', 'Distinct_Count'])\n",
    "    for feature in list(train.select_dtypes(include = [\"object\"]).columns):\n",
    "        #feature_info[feature] = [distinct_feature_values(train[feature])]\n",
    "        data1.loc[i, 'Feature_Name']     = feature\n",
    "        #data1.loc[i, 'ferq_Dist']        = feature_freq_dist(feature, train)\n",
    "        data1.loc[i, 'Mode']             = feature_mode_value(train[feature])\n",
    "        data1.loc[i, 'Missing_%']        = missing_feature_values(train[feature])/len(train[feature])*100\n",
    "        data1.loc[i, 'Missing_Count']    = missing_feature_values(train[feature])        \n",
    "        data1.loc[i, 'Distinct_Count']   = distinct_feature_values(train[feature]) \n",
    "        i+=1\n",
    "    data1 = data1.set_index('Feature_Name') \n",
    "    return data1\n",
    "\n",
    "# Summirize the Frequency distribution of each categorical feature \n",
    "\n",
    "def freq_dist(train):\n",
    "    i=0\n",
    "    data1 = pd.DataFrame(np.random.rand(0, 3) * 0, columns=['Feature_Name', 'Cat_Name', 'Cat_Count'])\n",
    "    for feature in list(train.select_dtypes(include = [\"object\"]).columns):\n",
    "        f = list(train.groupby(by=feature)[feature].count().index)\n",
    "        c = list(train.groupby(by=feature)[feature].count())\n",
    "        fc = zip(f, c)\n",
    "        for idx, item in enumerate(fc):\n",
    "            cat , co = item\n",
    "            data1.loc[i, 'Feature_Name']     = feature\n",
    "            data1.loc[i, 'Cat_Name']         = cat\n",
    "            data1.loc[i, 'Cat_Count']        = co\n",
    "            i+=1\n",
    "    return data1\n",
    "\n",
    "# Write a function Calculate the Co variance \n",
    "def Co_Variance_Info_ex(data,corr_v):\n",
    "    corr_value1 = corr_v\n",
    "    corr_value2 = corr_v * -1\n",
    "    num_features = list(data.select_dtypes(exclude = [\"object\"]).columns) \n",
    "    data = data[num_features]\n",
    "    data = data.corr()\n",
    "    i=0\n",
    "    data1 = pd.DataFrame(np.random.rand(0, 3) * 0, columns=['Feature_Name1', 'Feature_Name2', 'Co_Variance'])\n",
    "    for row in list(data.columns):\n",
    "        for col in list(data.columns):\n",
    "            if data.loc[(row),(col)] > corr_value1 :\n",
    "                data1.loc[i, 'Feature_Name1']     = row\n",
    "                data1.loc[i, 'Feature_Name2']     = col\n",
    "                data1.loc[i, 'Co_Variance']       = data.loc[(row),(col)]\n",
    "                i+=1\n",
    "            if data.loc[(row),(col)] < corr_value2 :\n",
    "                data1.loc[i, 'Feature_Name1']     = row\n",
    "                data1.loc[i, 'Feature_Name2']     = col\n",
    "                data1.loc[i, 'Co_Variance']       = data.loc[(row),(col)]\n",
    "                i+=1\n",
    "    data1 = data1[data1['Co_Variance'] != 1]\n",
    "    set_target_v = 'SalePrice'\n",
    "    data1 = data1[(data1['Feature_Name2'] != set_target_v) & (data1['Feature_Name1'] != set_target_v)]\n",
    "    data1 = data1.apply(frozenset, axis=1)\n",
    "    data1 = (set(data1))\n",
    "    data1 = pd.DataFrame([list(x) for x in data1], columns=['Co_Variance','A','B'])\n",
    "    #t = data1['Co_Variance'][0] #= data1['Co_Variance'][0]\n",
    "    #data1['Co_Variance'][0] = data1['B'][0]\n",
    "    #data1['B'][0] = t\n",
    "    return data1\n",
    "\n",
    "def Co_Variance_Info(data,corr_v):\n",
    "    corr_value1 = corr_v\n",
    "    corr_value2 = corr_v * -1\n",
    "    num_features = list(data.select_dtypes(exclude = [\"object\"]).columns) \n",
    "    data = data[num_features]\n",
    "    data = data.corr()\n",
    "    i=0\n",
    "    data1 = pd.DataFrame(np.random.rand(0, 3) * 0, columns=['Feature_Name1', 'Feature_Name2', 'Co_Variance'])\n",
    "    for row in list(data.columns):\n",
    "        for col in list(data.columns):\n",
    "            if data.loc[(row),(col)] > corr_value1 :\n",
    "                data1.loc[i, 'Feature_Name1']     = row\n",
    "                data1.loc[i, 'Feature_Name2']     = col\n",
    "                data1.loc[i, 'Co_Variance']       = data.loc[(row),(col)]\n",
    "                i+=1\n",
    "            if data.loc[(row),(col)] < corr_value2 :\n",
    "                data1.loc[i, 'Feature_Name1']     = row\n",
    "                data1.loc[i, 'Feature_Name2']     = col\n",
    "                data1.loc[i, 'Co_Variance']       = data.loc[(row),(col)]\n",
    "                i+=1\n",
    "    data1 = data1[data1['Co_Variance'] != 1]\n",
    "    set_target_v = 'SalePrice'\n",
    "    data1 = data1[(data1['Feature_Name2'] != set_target_v) & (data1['Feature_Name1'] != set_target_v)]\n",
    "    #data1 = data1.apply(frozenset, axis=1)\n",
    "    #data1 = (set(series_set))\n",
    "    return data1\n",
    "\n",
    "def freq_dist1(train):\n",
    "    i=0\n",
    "    \n",
    "    data_cat = Categorical_Info(train)\n",
    "    ma_x = int(data_cat['Distinct_Count'].max())\n",
    "    col = ['Feature_Name']\n",
    "    for m in range(ma_x):\n",
    "        col.append(m) \n",
    "    data1 = pd.DataFrame(np.random.rand(0, ma_x+1) * 0, columns=col)\n",
    "    for feature in list(train.select_dtypes(include = [\"object\"]).columns):\n",
    "        f = list(train.groupby(by=feature)[feature].count().index)\n",
    "        c = list(train.groupby(by=feature)[feature].count())\n",
    "        fc = zip(f, c)\n",
    "        j=0\n",
    "        data1.loc[i, 'Feature_Name']     = feature\n",
    "        for idx, item in enumerate(fc):\n",
    "            cat , co = item\n",
    "            #data1.loc[i, 'Feature_Name']     = feature\n",
    "            #data1.loc[i, 'Cat_Name']         = cat\n",
    "            data1.loc[i, j]        = co*100/1459\n",
    "            j+=1\n",
    "        i+=1\n",
    "        \n",
    "    return data1\n",
    "\n",
    "def get_outlier_num_high_low(train,feature):\n",
    "    High , Low = feature_outlier_values(train,feature)\n",
    "    #out_high = train[train[feature] > High][feature].min()#.sort_values().count()\n",
    "    #out_Low = train[train[feature] < Low][feature].min()#.sort_values().count()\n",
    "    if train[train[feature] > High][feature].sort_values().count() > 0:\n",
    "        out_high = train[train[feature] > High][feature].min()\n",
    "    if train[train[feature] < Low][feature].sort_values().count() > 0:\n",
    "        out_Low = train[train[feature] < Low][feature].min()\n",
    "    else:\n",
    "        out_Low = 0\n",
    "    return out_high,out_Low\n",
    "\n",
    "def cat_freq_list():\n",
    "    data_cat = Categorical_Info(train)\n",
    "    data1 = freq_dist1(train)\n",
    "    data1 = data1.set_index('Feature_Name')\n",
    "    idx = data1.index\n",
    "    data1 = pd.DataFrame(np.sort(-data1.values, axis=1), columns=data1.columns)\n",
    "    data1 = data1.apply(lambda x : x * -1)\n",
    "    data1 = data1.set_index(idx)\n",
    "    data1 = data1[data1[0] > 80].sort_values(ascending=True,by=0)\n",
    "    s = data1[0].sort_values(ascending=False)\n",
    "    s2 = data_cat.loc[list(data1.index)]\n",
    "    data_c = pd.concat([s,s2],axis=1).sort_values(ascending=False, by=0)[[0,'Mode','Distinct_Count']]\n",
    "    data_c.rename(columns={0:\"Category_%\", \"Mode\":\"Category_Name\",\"Distinct_Count\":\"No_of_Categories\"})\n",
    "    return data_c\n",
    "###############################################################################################################################\n",
    "# Write down the function that will return Feature that contain 50% or more missing values \n",
    "def missing_features(data, Percent):\n",
    "    mis_per = data.isnull().sum()/len(data)*100\n",
    "    mis_per[mis_per > Percent]\n",
    "    return list(mis_per[mis_per > Percent].index)\n",
    "\n",
    "def missing_Percent(Data):\n",
    "    Data = Data.isnull().sum()/len(Data)*100\n",
    "    return Data[Data > 0].sort_values(ascending=False)\n",
    "\n",
    "def missing_Percent_Feature(Data):\n",
    "    Data = Data.isnull().sum()/len(Data)*100\n",
    "    return list(Data[Data > 0].index)\n"
   ]
  },
  {
   "cell_type": "code",
   "execution_count": null,
   "metadata": {},
   "outputs": [],
   "source": []
  }
 ],
 "metadata": {
  "kernelspec": {
   "display_name": "Python 3",
   "language": "python",
   "name": "python3"
  },
  "language_info": {
   "codemirror_mode": {
    "name": "ipython",
    "version": 3
   },
   "file_extension": ".py",
   "mimetype": "text/x-python",
   "name": "python",
   "nbconvert_exporter": "python",
   "pygments_lexer": "ipython3",
   "version": "3.7.3"
  }
 },
 "nbformat": 4,
 "nbformat_minor": 2
}
